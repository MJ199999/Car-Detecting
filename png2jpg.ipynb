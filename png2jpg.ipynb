{
  "cells": [
    {
      "cell_type": "markdown",
      "metadata": {
        "id": "view-in-github",
        "colab_type": "text"
      },
      "source": [
        "<a href=\"https://colab.research.google.com/github/MJ199999/Car-Detecting/blob/main/png2jpg.ipynb\" target=\"_parent\"><img src=\"https://colab.research.google.com/assets/colab-badge.svg\" alt=\"Open In Colab\"/></a>"
      ]
    },
    {
      "cell_type": "code",
      "execution_count": null,
      "metadata": {
        "colab": {
          "base_uri": "https://localhost:8080/"
        },
        "id": "aQM7iB2SDh42",
        "outputId": "80383b9f-fca6-428d-973f-c6ad4c8aad04"
      },
      "outputs": [
        {
          "name": "stdout",
          "output_type": "stream",
          "text": [
            "Mounted at /gdrive\n"
          ]
        }
      ],
      "source": [
        "from google.colab import drive\n",
        "drive.mount('/gdrive')"
      ]
    },
    {
      "cell_type": "code",
      "execution_count": null,
      "metadata": {
        "colab": {
          "base_uri": "https://localhost:8080/"
        },
        "id": "PzYSef-zDUzL",
        "outputId": "4e0824a2-9973-42a8-9f6d-6b0b0faa6a32"
      },
      "outputs": [
        {
          "name": "stdout",
          "output_type": "stream",
          "text": [
            "Reading package lists... Done\n",
            "Building dependency tree       \n",
            "Reading state information... Done\n",
            "The following NEW packages will be installed:\n",
            "  tree\n",
            "0 upgraded, 1 newly installed, 0 to remove and 34 not upgraded.\n",
            "Need to get 43.0 kB of archives.\n",
            "After this operation, 115 kB of additional disk space will be used.\n",
            "Get:1 http://archive.ubuntu.com/ubuntu focal/universe amd64 tree amd64 1.8.0-1 [43.0 kB]\n",
            "Fetched 43.0 kB in 1s (55.6 kB/s)\n",
            "Selecting previously unselected package tree.\n",
            "(Reading database ... 122542 files and directories currently installed.)\n",
            "Preparing to unpack .../tree_1.8.0-1_amd64.deb ...\n",
            "Unpacking tree (1.8.0-1) ...\n",
            "Setting up tree (1.8.0-1) ...\n",
            "Processing triggers for man-db (2.9.1-1) ...\n",
            "rm: cannot remove 'images_jpg': No such file or directory\n",
            "rm: cannot remove 'images': No such file or directory\n"
          ]
        }
      ],
      "source": [
        "import os\n",
        "\n",
        "import glob\n",
        "from PIL import Image\n",
        "\n",
        "\n",
        "!apt-get install tree\n",
        "\n",
        "\n",
        "!rm -r images_jpg\n",
        "!rm -r images\n",
        "!rm -r sample_data"
      ]
    },
    {
      "cell_type": "code",
      "execution_count": null,
      "metadata": {
        "id": "9ijqIr__D3XB"
      },
      "outputs": [],
      "source": [
        "def convert_png_to_jpg(path):\n",
        "    # jpg파일을 저장하기 위한 디렉토리의 생성\n",
        "    if not os.path.exists(path+'_jpg'):\n",
        "        os.mkdir(path+'_jpg') \n",
        "\n",
        "    # 모든 png 파일의 절대경로를 저장\n",
        "    all_image_files=glob.glob(path+'/*.png') \n",
        "\n",
        "    for file_path in all_image_files:                   # 모든 png파일 경로에 대하여\n",
        "        img = Image.open(file_path).convert('RGB')  # 이미지를 불러온다.\n",
        "\n",
        "        directories=file_path.split('/')                # 절대경로상의 모든 디렉토리를 얻어낸다.\n",
        "        directories[-2]+='_jpg'                     # 저장될 디렉토리의 이름 지정\n",
        "        directories[-1]=directories[-1][:-4]+'.jpg'  # 저장될 파일의 이름 지정\n",
        "        save_filepath='/'.join(directories)          # 절대경로명으로 바꾸기\n",
        "        img.save(save_filepath, quality=100)       # jpg파일로 저장한다.\n"
      ]
    },
    {
      "cell_type": "code",
      "execution_count": null,
      "metadata": {
        "colab": {
          "background_save": true
        },
        "id": "yiHvVmp0EImM"
      },
      "outputs": [],
      "source": [
        "convert_png_to_jpg('/gdrive/MyDrive/train_png')"
      ]
    }
  ],
  "metadata": {
    "accelerator": "GPU",
    "colab": {
      "machine_shape": "hm",
      "provenance": [],
      "authorship_tag": "ABX9TyNdOlGcbSPjFtDklPGJ/NA2",
      "include_colab_link": true
    },
    "kernelspec": {
      "display_name": "Python 3",
      "name": "python3"
    },
    "language_info": {
      "name": "python"
    }
  },
  "nbformat": 4,
  "nbformat_minor": 0
}